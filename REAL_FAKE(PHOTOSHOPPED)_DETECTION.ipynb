{
  "cells": [
    {
      "cell_type": "code",
      "execution_count": null,
      "metadata": {
        "id": "hFectln5peeX"
      },
      "outputs": [],
      "source": [
        "#import necessary libraries\n",
        "import glob\n",
        "import tensorflow as tf\n",
        "from PIL import Image\n",
        "import numpy as np\n",
        "from numpy import asarray"
      ]
    },
    {
      "cell_type": "code",
      "execution_count": 73,
      "metadata": {
        "id": "6vUv_D-q2FHp"
      },
      "outputs": [],
      "source": [
        "import numpy as np\n",
        "import matplotlib.pyplot as plt\n",
        "%matplotlib inline\n",
        "np.random.seed(2)\n",
        "from sklearn.model_selection import train_test_split\n",
        "from sklearn.metrics import confusion_matrix\n",
        "from tensorflow import keras as keras\n",
        "from tensorflow.keras.utils import to_categorical\n",
        "from tensorflow.keras.models import Sequential\n",
        "from tensorflow.keras.layers import Dense, Flatten, Conv2D, MaxPool2D, Dropout,Activation\n",
        "from tensorflow.keras.preprocessing.image import ImageDataGenerator\n",
        "from tensorflow.keras.callbacks import EarlyStopping\n",
        "from tensorflow.keras import layers\n",
        "from tensorflow.keras.optimizers import Adam"
      ]
    },
    {
      "cell_type": "code",
      "execution_count": 3,
      "metadata": {
        "id": "UFhmCsYFsfHX"
      },
      "outputs": [],
      "source": [
        "def isFake(name):\n",
        "  return int(name[-5])"
      ]
    },
    {
      "cell_type": "code",
      "execution_count": null,
      "metadata": {
        "colab": {
          "base_uri": "https://localhost:8080/"
        },
        "id": "VI-WN17-pfu-",
        "outputId": "82da91e5-cc22-4b82-bbe1-95571f6acd4b"
      },
      "outputs": [],
      "source": [
        "files = glob.glob('./images_from_video_big/*')"
      ]
    },
    {
      "cell_type": "code",
      "execution_count": null,
      "metadata": {},
      "outputs": [],
      "source": [
        "first = True\n",
        "i =0\n",
        "for f in files:\n",
        "    img = np.array(Image.open(f).resize((16,16)))\n",
        "    if first:\n",
        "        X = [img]\n",
        "        y = [isFake(f)]\n",
        "        first= False\n",
        "    else:\n",
        "        X = np.concatenate((X,[img]))\n",
        "        y.append(isFake(f))\n",
        "    if i%1000==0:\n",
        "        print(i//1000)\n",
        "    i+=1"
      ]
    },
    {
      "cell_type": "code",
      "execution_count": 23,
      "metadata": {},
      "outputs": [],
      "source": [
        "y=to_categorical(y,2)"
      ]
    },
    {
      "cell_type": "code",
      "execution_count": 110,
      "metadata": {
        "id": "Y-NAdeURqNvo"
      },
      "outputs": [],
      "source": [
        "def build_model():\n",
        "    model = Sequential()\n",
        "    model.add(Conv2D(filters = 32, kernel_size = (5, 5), padding = 'valid', activation = 'relu', input_shape = (16, 16, 3)))\n",
        "    model.add(Activation('relu'))\n",
        "    model.add(Conv2D(filters = 32, kernel_size = (5, 5), padding = 'valid', activation = 'relu', input_shape = (16, 16, 3)))\n",
        "    model.add(Activation('relu'))\n",
        "    model.add(MaxPool2D(pool_size = (2, 2)))\n",
        "    model.add(Dropout(0.25))\n",
        "    model.add(Flatten())\n",
        "    model.add(Dense(256, activation = 'relu'))\n",
        "    model.add(Dropout(0.5))\n",
        "    model.add(Dense(2, activation = 'softmax'))\n",
        "    return model"
      ]
    },
    {
      "cell_type": "code",
      "execution_count": 113,
      "metadata": {
        "id": "ln9NSXyd234_"
      },
      "outputs": [],
      "source": [
        "X_train, X_val, Y_train, Y_val = train_test_split(X, y, test_size = 0.2, random_state=9,shuffle=True)"
      ]
    },
    {
      "cell_type": "code",
      "execution_count": 114,
      "metadata": {},
      "outputs": [],
      "source": [
        "model = build_model()"
      ]
    },
    {
      "cell_type": "code",
      "execution_count": 115,
      "metadata": {},
      "outputs": [
        {
          "name": "stdout",
          "output_type": "stream",
          "text": [
            "_________________________________________________________________\n",
            "Layer (type)                 Output Shape              Param #   \n",
            "=================================================================\n",
            "conv2d_20 (Conv2D)           (None, 12, 12, 32)        2432      \n",
            "_________________________________________________________________\n",
            "activation_6 (Activation)    (None, 12, 12, 32)        0         \n",
            "_________________________________________________________________\n",
            "conv2d_21 (Conv2D)           (None, 8, 8, 32)          25632     \n",
            "_________________________________________________________________\n",
            "activation_7 (Activation)    (None, 8, 8, 32)          0         \n",
            "_________________________________________________________________\n",
            "max_pooling2d_13 (MaxPooling (None, 4, 4, 32)          0         \n",
            "_________________________________________________________________\n",
            "dropout_16 (Dropout)         (None, 4, 4, 32)          0         \n",
            "_________________________________________________________________\n",
            "flatten_9 (Flatten)          (None, 512)               0         \n",
            "_________________________________________________________________\n",
            "dense_18 (Dense)             (None, 256)               131328    \n",
            "_________________________________________________________________\n",
            "dropout_17 (Dropout)         (None, 256)               0         \n",
            "_________________________________________________________________\n",
            "dense_19 (Dense)             (None, 2)                 514       \n",
            "=================================================================\n",
            "Total params: 159,906\n",
            "Trainable params: 159,906\n",
            "Non-trainable params: 0\n",
            "_________________________________________________________________\n"
          ]
        }
      ],
      "source": [
        "model.summary()"
      ]
    },
    {
      "cell_type": "code",
      "execution_count": 123,
      "metadata": {},
      "outputs": [],
      "source": [
        "epochs = 10\n",
        "batch_size = 64\n",
        "init_lr = 0.1\n",
        "optimizer = Adam(lr = init_lr, decay = 1e-3)"
      ]
    },
    {
      "cell_type": "code",
      "execution_count": 124,
      "metadata": {},
      "outputs": [],
      "source": [
        "model.compile(optimizer = optimizer , loss = 'binary_crossentropy', metrics = ['accuracy'])"
      ]
    },
    {
      "cell_type": "code",
      "execution_count": 125,
      "metadata": {},
      "outputs": [
        {
          "name": "stdout",
          "output_type": "stream",
          "text": [
            "Train on 66096 samples, validate on 16525 samples\n",
            "Epoch 1/10\n",
            "66096/66096 [==============================] - 18s 272us/step - loss: 5.4673 - acc: 0.6589 - val_loss: 5.4964 - val_acc: 0.6571\n",
            "Epoch 2/10\n",
            "66096/66096 [==============================] - 17s 253us/step - loss: 5.4673 - acc: 0.6589 - val_loss: 5.4964 - val_acc: 0.6571\n",
            "Epoch 3/10\n",
            "66096/66096 [==============================] - 17s 253us/step - loss: 5.4673 - acc: 0.6589 - val_loss: 5.4964 - val_acc: 0.6571\n",
            "Epoch 4/10\n",
            "66096/66096 [==============================] - 17s 253us/step - loss: 5.4673 - acc: 0.6589 - val_loss: 5.4964 - val_acc: 0.6571\n",
            "Epoch 5/10\n",
            "66096/66096 [==============================] - 17s 253us/step - loss: 5.4673 - acc: 0.6589 - val_loss: 5.4964 - val_acc: 0.6571\n",
            "Epoch 6/10\n",
            "66096/66096 [==============================] - 17s 255us/step - loss: 5.4673 - acc: 0.6589 - val_loss: 5.4964 - val_acc: 0.6571\n",
            "Epoch 7/10\n",
            "66096/66096 [==============================] - 17s 252us/step - loss: 5.4673 - acc: 0.6589 - val_loss: 5.4964 - val_acc: 0.6571\n",
            "Epoch 8/10\n",
            "66096/66096 [==============================] - 17s 253us/step - loss: 5.4673 - acc: 0.6589 - val_loss: 5.4964 - val_acc: 0.6571\n",
            "Epoch 9/10\n",
            "66096/66096 [==============================] - 17s 252us/step - loss: 5.4673 - acc: 0.6589 - val_loss: 5.4964 - val_acc: 0.6571\n",
            "Epoch 10/10\n",
            "66096/66096 [==============================] - 17s 253us/step - loss: 5.4673 - acc: 0.6589 - val_loss: 5.4964 - val_acc: 0.6571\n"
          ]
        }
      ],
      "source": [
        "hist = model.fit(X_train,\n",
        "                 Y_train,\n",
        "                 batch_size = batch_size,\n",
        "                 epochs = epochs,\n",
        "                validation_data = (X_val, Y_val),\n",
        "                )"
      ]
    }
  ],
  "metadata": {
    "accelerator": "GPU",
    "colab": {
      "name": "Untitled0.ipynb",
      "provenance": []
    },
    "kernelspec": {
      "display_name": "Python 3",
      "name": "python3"
    },
    "language_info": {
      "codemirror_mode": {
        "name": "ipython",
        "version": 3
      },
      "file_extension": ".py",
      "mimetype": "text/x-python",
      "name": "python",
      "nbconvert_exporter": "python",
      "pygments_lexer": "ipython3",
      "version": "3.6.12"
    }
  },
  "nbformat": 4,
  "nbformat_minor": 0
}
