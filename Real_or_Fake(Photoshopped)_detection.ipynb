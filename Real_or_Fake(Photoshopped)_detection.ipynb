{
  "cells": [
    {
      "cell_type": "code",
      "execution_count": null,
      "metadata": {
        "id": "hFectln5peeX"
      },
      "outputs": [],
      "source": [
        "#import necessary libraries\n",
        "import glob\n",
        "import tensorflow as tf\n",
        "from PIL import Image\n",
        "import numpy as np\n",
        "from numpy import asarray"
      ]
    },
    {
      "cell_type": "code",
      "execution_count": 73,
      "metadata": {
        "id": "6vUv_D-q2FHp"
      },
      "outputs": [],
      "source": [
        "import numpy as np\n",
        "import matplotlib.pyplot as plt\n",
        "%matplotlib inline\n",
        "np.random.seed(2)\n",
        "from sklearn.model_selection import train_test_split\n",
        "from sklearn.metrics import confusion_matrix\n",
        "from tensorflow import keras as keras\n",
        "from tensorflow.keras.utils import to_categorical\n",
        "from tensorflow.keras.models import Sequential\n",
        "from tensorflow.keras.layers import Dense, Flatten, Conv2D, MaxPool2D, Dropout,Activation\n",
        "from tensorflow.keras.preprocessing.image import ImageDataGenerator\n",
        "from tensorflow.keras.callbacks import EarlyStopping\n",
        "from tensorflow.keras import layers\n",
        "from tensorflow.keras.optimizers import Adam"
      ]
    },
    {
      "cell_type": "code",
      "execution_count": 3,
      "metadata": {
        "id": "UFhmCsYFsfHX"
      },
      "outputs": [],
      "source": [
        "def isFake(name):\n",
        "  return int(name[-5])"
      ]
    },
    {
      "cell_type": "code",
      "execution_count": null,
      "metadata": {
        "colab": {
          "base_uri": "https://localhost:8080/"
        },
        "id": "VI-WN17-pfu-",
        "outputId": "82da91e5-cc22-4b82-bbe1-95571f6acd4b"
      },
      "outputs": [],
      "source": [
        "files = glob.glob('./images_from_video_big/*')"
      ]
    },
    {
      "cell_type": "code",
      "execution_count": null,
      "metadata": {},
      "outputs": [],
      "source": [
        "first = True\n",
        "i =0\n",
        "for f in files:\n",
        "    img = np.array(Image.open(f).resize((32,32)))\n",
        "    if first:\n",
        "        X = [img]\n",
        "        y = [isFake(f)]\n",
        "        first= False\n",
        "    else:\n",
        "        X = np.concatenate((X,[img]))\n",
        "        y.append(isFake(f))\n",
        "    if i%1000==0:\n",
        "        print(i//1000)\n",
        "    i+=1"
      ]
    },
    {
      "cell_type": "code",
      "execution_count": 164,
      "metadata": {},
      "outputs": [],
      "source": [
        "y=to_categorical(y,2)"
      ]
    },
    {
      "cell_type": "code",
      "execution_count": 175,
      "metadata": {},
      "outputs": [],
      "source": [
        "def build_model():\n",
        "    model = Sequential()\n",
        "    model.add(tf.keras.applications.ResNet50(include_top=False, input_shape =(32,32,3),classes=2))\n",
        "    model.add(Flatten())\n",
        "    model.add(Dense(256, activation = 'relu'))\n",
        "    model.add(Dropout(0.5))\n",
        "    model.add(Dense(2, activation = 'softmax'))\n",
        "    return model"
      ]
    },
    {
      "cell_type": "code",
      "execution_count": 176,
      "metadata": {
        "id": "ln9NSXyd234_"
      },
      "outputs": [],
      "source": [
        "X_train, X_val, Y_train, Y_val = train_test_split(X, y, test_size = 0.3, random_state=9,shuffle=True)"
      ]
    },
    {
      "cell_type": "code",
      "execution_count": 177,
      "metadata": {},
      "outputs": [],
      "source": [
        "model = build_model()"
      ]
    },
    {
      "cell_type": "code",
      "execution_count": 178,
      "metadata": {},
      "outputs": [
        {
          "name": "stdout",
          "output_type": "stream",
          "text": [
            "_________________________________________________________________\n",
            "Layer (type)                 Output Shape              Param #   \n",
            "=================================================================\n",
            "resnet50 (Model)             (None, 1, 1, 2048)        23587712  \n",
            "_________________________________________________________________\n",
            "flatten_13 (Flatten)         (None, 2048)              0         \n",
            "_________________________________________________________________\n",
            "dense_28 (Dense)             (None, 256)               524544    \n",
            "_________________________________________________________________\n",
            "dropout_23 (Dropout)         (None, 256)               0         \n",
            "_________________________________________________________________\n",
            "dense_29 (Dense)             (None, 2)                 514       \n",
            "=================================================================\n",
            "Total params: 24,112,770\n",
            "Trainable params: 24,059,650\n",
            "Non-trainable params: 53,120\n",
            "_________________________________________________________________\n"
          ]
        }
      ],
      "source": [
        "model.summary()"
      ]
    },
    {
      "cell_type": "code",
      "execution_count": 179,
      "metadata": {},
      "outputs": [],
      "source": [
        "epochs = 10\n",
        "batch_size = 256\n",
        "init_lr = 1e-2\n",
        "optimizer = Adam(lr = init_lr, decay = 1e-3)"
      ]
    },
    {
      "cell_type": "code",
      "execution_count": 180,
      "metadata": {},
      "outputs": [],
      "source": [
        "model.compile(optimizer = optimizer , loss = 'binary_crossentropy', metrics = ['accuracy'])"
      ]
    },
    {
      "cell_type": "code",
      "execution_count": 181,
      "metadata": {},
      "outputs": [
        {
          "name": "stdout",
          "output_type": "stream",
          "text": [
            "Train on 56282 samples, validate on 24122 samples\n",
            "Epoch 1/10\n",
            "56282/56282 [==============================] - 456s 8ms/step - loss: 0.7114 - acc: 0.6594 - val_loss: 0.7097 - val_acc: 0.6550\n",
            "Epoch 2/10\n",
            "56282/56282 [==============================] - 429s 8ms/step - loss: 0.6804 - acc: 0.6601 - val_loss: 1.0123 - val_acc: 0.6548\n",
            "Epoch 3/10\n",
            "56282/56282 [==============================] - 430s 8ms/step - loss: 0.6953 - acc: 0.6603 - val_loss: 0.7503 - val_acc: 0.6550\n",
            "Epoch 4/10\n",
            "56282/56282 [==============================] - 427s 8ms/step - loss: 0.6905 - acc: 0.6605 - val_loss: 0.6450 - val_acc: 0.6550\n",
            "Epoch 5/10\n",
            "56282/56282 [==============================] - 429s 8ms/step - loss: 0.6661 - acc: 0.6603 - val_loss: 0.6450 - val_acc: 0.6550\n",
            "Epoch 6/10\n",
            " 2304/56282 [>.............................] - ETA: 6:40 - loss: 0.6739 - acc: 0.6471"
          ]
        }
      ],
      "source": [
        "hist = model.fit(X_train,\n",
        "                 Y_train,\n",
        "                 batch_size = batch_size,\n",
        "                 epochs = epochs,\n",
        "                validation_data = (X_val, Y_val),\n",
        "                )"
      ]
    }
  ],
  "metadata": {
    "accelerator": "GPU",
    "colab": {
      "name": "Untitled0.ipynb",
      "provenance": []
    },
    "kernelspec": {
      "display_name": "Python 3",
      "name": "python3"
    },
    "language_info": {
      "codemirror_mode": {
        "name": "ipython",
        "version": 3
      },
      "file_extension": ".py",
      "mimetype": "text/x-python",
      "name": "python",
      "nbconvert_exporter": "python",
      "pygments_lexer": "ipython3",
      "version": "3.6.12"
    }
  },
  "nbformat": 4,
  "nbformat_minor": 0
}
